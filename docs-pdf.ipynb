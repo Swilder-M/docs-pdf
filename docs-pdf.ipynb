{
 "cells": [
  {
   "cell_type": "code",
   "execution_count": 2,
   "id": "6557a5a1",
   "metadata": {},
   "outputs": [
    {
     "name": "stdout",
     "output_type": "stream",
     "text": [
      "Collecting pdfkit\n",
      "  Using cached https://files.pythonhosted.org/packages/64/1b/26c080096dd93936dccfd32c682bed3d5630a84aae9d493ff68afb2ae0fb/pdfkit-1.0.0-py3-none-any.whl\n",
      "Installing collected packages: pdfkit\n",
      "Successfully installed pdfkit-1.0.0\n",
      "\u001B[33mWARNING: You are using pip version 19.2.3, however version 22.0.4 is available.\n",
      "You should consider upgrading via the 'pip install --upgrade pip' command.\u001B[0m\n"
     ]
    }
   ],
   "source": [
    "!pip3 install pdfkit --user"
   ]
  },
  {
   "cell_type": "code",
   "execution_count": null,
   "id": "c11447d1",
   "metadata": {},
   "outputs": [],
   "source": [
    "# for ubuntu or debian\n",
    "# sudo apt-get install wkhtmltopdf\n",
    "\n",
    "# for macOS\n",
    "# brew install homebrew/cask/wkhtmltopdf\n",
    "\n",
    "# docs\n",
    "# https://wkhtmltopdf.org/usage/wkhtmltopdf.txt"
   ]
  },
  {
   "cell_type": "code",
   "execution_count": 1,
   "id": "aaf781c0",
   "metadata": {},
   "outputs": [],
   "source": [
    "import pdfkit, requests\n",
    "from bs4 import BeautifulSoup"
   ]
  },
  {
   "cell_type": "code",
   "execution_count": 2,
   "id": "eaeecdfc",
   "metadata": {},
   "outputs": [],
   "source": [
    "def get_children_url(_d):\n",
    "    urls = []\n",
    "    for _path in _d:\n",
    "        if _path.get('path'):\n",
    "            urls.append(_path['path'])\n",
    "            continue\n",
    "\n",
    "        if _path.get('children'):\n",
    "            urls.extend(get_children_url(_path['children']))\n",
    "            continue\n",
    "    return urls"
   ]
  },
  {
   "cell_type": "code",
   "execution_count": 3,
   "id": "5d91b162",
   "metadata": {},
   "outputs": [],
   "source": [
    "def get_urls(product, version, lang):\n",
    "    if product == 'broker':\n",
    "        json_url = f'https://raw.githubusercontent.com/emqx/emqx-docs/release-{version}/directory.json'\n",
    "    elif product == 'enterprise':\n",
    "        json_url = f'https://raw.githubusercontent.com/emqx/emqx-docs/release-{version}/directory_ee.json'\n",
    "    else:\n",
    "        print('error product', product)\n",
    "        return None\n",
    "    \n",
    "    json_data = requests.get(json_url).json()\n",
    "    json_data = json_data[lang]\n",
    "\n",
    "    all_path = get_children_url(json_data)\n",
    "    all_urls = []\n",
    "    for _path in all_path:\n",
    "        if lang == 'cn':\n",
    "            lang = 'zh'\n",
    "        if _path == './':\n",
    "            all_urls.append(f'https://docs.emqx.com/{lang}/enterprise/v{version}/')\n",
    "        else:\n",
    "            all_urls.append(f'https://docs.emqx.com/{lang}/enterprise/v{version}/{_path}.html')\n",
    "\n",
    "    return all_urls"
   ]
  },
  {
   "cell_type": "code",
   "execution_count": 54,
   "id": "036e223a",
   "metadata": {
    "scrolled": false
   },
   "outputs": [
    {
     "name": "stderr",
     "output_type": "stream",
     "text": [
      "IOPub data rate exceeded.\n",
      "The notebook server will temporarily stop sending output\n",
      "to the client in order to avoid crashing it.\n",
      "To change this limit, set the config variable\n",
      "`--NotebookApp.iopub_data_rate_limit`.\n",
      "\n",
      "Current values:\n",
      "NotebookApp.iopub_data_rate_limit=1000000.0 (bytes/sec)\n",
      "NotebookApp.rate_limit_window=3.0 (secs)\n",
      "\n"
     ]
    },
    {
     "data": {
      "text/plain": [
       "True"
      ]
     },
     "execution_count": 54,
     "metadata": {},
     "output_type": "execute_result"
    }
   ],
   "source": [
    "url = get_urls('enterprise', '4.4', 'cn')\n",
    "options = {\n",
    "    'print-media-type': None,\n",
    "    'user-style-sheet': 'my.css',\n",
    "    'dump-outline': 'toc.xml',\n",
    "    'enable-local-file-access': None,\n",
    "    'javascript-delay': 60000,\n",
    "    'header-center': 'EMQX Enterprise V4.4 Docs',\n",
    "    'header-font-size': 10,\n",
    "    'header-spacing': 5,\n",
    "    'footer-center': '[page] / [topage]',\n",
    "    'footer-font-size': 8,\n",
    "    'page-offset': -1\n",
    "#     'enable-internal-links': None,\n",
    "#     'keep-relative-links': None\n",
    "#     'dump-default-toc-xsl': None\n",
    "}\n",
    "toc = { \n",
    "    'xsl-style-sheet': 'toc.xsl'\n",
    "}\n",
    "cover = 'https://docs.emqx.com/404.html'\n",
    "\n",
    "pdfkit.from_url(url, 'out.pdf', options=options, verbose=True, toc=toc, cover=cover, cover_first=True)"
   ]
  },
  {
   "cell_type": "code",
   "execution_count": null,
   "id": "b50ae8cd",
   "metadata": {},
   "outputs": [],
   "source": [
    "url = get_urls('enterprise', '4.4', 'cn')"
   ]
  },
  {
   "cell_type": "code",
   "execution_count": null,
   "id": "f1314026",
   "metadata": {},
   "outputs": [],
   "source": []
  },
  {
   "cell_type": "code",
   "execution_count": 72,
   "id": "a40bb70f",
   "metadata": {},
   "outputs": [
    {
     "name": "stdout",
     "output_type": "stream",
     "text": [
      "/usr/local/bin/wkhtmltopdf --print-media-type --user-style-sheet my.css --dump-outline toc.xml --enable-local-file-access --javascript-delay 500 --header-center EMQX Enterprise V4.4 Docs --header-font-size 10 --header-spacing 5 --footer-center [page] / [topage] --footer-font-size 8 --page-offset -1 toc --xsl-style-sheet toc.xsl https://docs.emqx.com/zh/enterprise/v4.4/ https://docs.emqx.com/zh/enterprise/v4.4/getting-started/install-ee.html https://docs.emqx.com/zh/enterprise/v4.4/getting-started/start.html https://docs.emqx.com/zh/enterprise/v4.4/faq/error.html https://docs.emqx.com/zh/enterprise/v4.4/bridge/bridge.html https://docs.emqx.com/zh/enterprise/v4.4/rule/rule-engine.html https://docs.emqx.com/zh/enterprise/v4.4/getting-started/log.html -\n"
     ]
    }
   ],
   "source": [
    "# test command\n",
    "r = pdfkit.PDFKit(url, 'url', options=options, verbose=True, toc=toc)\n",
    "print(' '.join(r.command()))"
   ]
  },
  {
   "cell_type": "code",
   "execution_count": 20,
   "id": "8d7d890b",
   "metadata": {},
   "outputs": [],
   "source": [
    "with open('my.css', 'w') as f:\n",
    "    f.write('''\n",
    "  .navbar,\n",
    "  .right-column,\n",
    "  .main-footer-box {\n",
    "    display: none;\n",
    "  }\n",
    "  .main-box {\n",
    "    padding-top: 0;\n",
    "  }\n",
    "  #page-feedback {\n",
    "    display: none;\n",
    "  }\n",
    "  \n",
    "''')"
   ]
  },
  {
   "cell_type": "code",
   "execution_count": 23,
   "id": "e10001ca",
   "metadata": {},
   "outputs": [],
   "source": [
    "s = '''\n",
    "<?xml version=\"1.0\" encoding=\"UTF-8\"?>\n",
    "<xsl:stylesheet version=\"2.0\"\n",
    "                xmlns:xsl=\"http://www.w3.org/1999/XSL/Transform\"\n",
    "                xmlns:outline=\"http://wkhtmltopdf.org/outline\"\n",
    "                xmlns=\"http://www.w3.org/1999/xhtml\">\n",
    "  <xsl:output doctype-public=\"-//W3C//DTD XHTML 1.0 Strict//EN\"\n",
    "              doctype-system=\"http://www.w3.org/TR/xhtml1/DTD/xhtml1-transitional.dtd\"\n",
    "              indent=\"yes\" />\n",
    "  <xsl:template match=\"outline:outline\">\n",
    "    <html>\n",
    "      <head>\n",
    "        <title>Table of Contents</title>\n",
    "        <meta http-equiv=\"Content-Type\" content=\"text/html; charset=utf-8\" />\n",
    "        <style>\n",
    "          h1 {\n",
    "            text-align: center;\n",
    "            font-size: 20px;\n",
    "            font-family: arial;\n",
    "          }\n",
    "          div {border-bottom: 1px dashed rgb(200,200,200);}\n",
    "          span {float: right;}\n",
    "          li {list-style: none;}\n",
    "          ul {\n",
    "            font-size: 20px;\n",
    "            font-family: arial;\n",
    "          }\n",
    "          ul ul {font-size: 80%; }\n",
    "          ul {padding-left: 0em;}\n",
    "          ul ul {padding-left: 1em;}\n",
    "          a {text-decoration:none; color: black;}\n",
    "        </style>\n",
    "      </head>\n",
    "      <body>\n",
    "        <h1>Table of Contents</h1>\n",
    "        <ul><xsl:apply-templates select=\"outline:item/outline:item\"/></ul>\n",
    "      </body>\n",
    "    </html>\n",
    "  </xsl:template>\n",
    "  <xsl:template match=\"outline:item\">\n",
    "    <li>\n",
    "      <xsl:if test=\"@title!=''\">\n",
    "        <div>\n",
    "          <a>\n",
    "            <xsl:if test=\"@link\">\n",
    "              <xsl:attribute name=\"href\"><xsl:value-of select=\"@link\"/></xsl:attribute>\n",
    "            </xsl:if>\n",
    "            <xsl:if test=\"@backLink\">\n",
    "              <xsl:attribute name=\"name\"><xsl:value-of select=\"@backLink\"/></xsl:attribute>\n",
    "            </xsl:if>\n",
    "            <xsl:value-of select=\"@title\" /> \n",
    "          </a>\n",
    "          <span> <xsl:value-of select=\"@page\" /> </span>\n",
    "        </div>\n",
    "      </xsl:if>\n",
    "      <ul>\n",
    "        <xsl:comment>added to prevent self-closing tags in QtXmlPatterns</xsl:comment>\n",
    "        <xsl:apply-templates select=\"outline:item\"/>\n",
    "      </ul>\n",
    "    </li>\n",
    "  </xsl:template>\n",
    "</xsl:stylesheet>\n",
    "'''"
   ]
  },
  {
   "cell_type": "code",
   "execution_count": 24,
   "id": "6c462f61",
   "metadata": {},
   "outputs": [],
   "source": [
    "with open('toc.xsl', 'w') as f:\n",
    "    f.write(s)"
   ]
  },
  {
   "cell_type": "code",
   "execution_count": null,
   "id": "66376138",
   "metadata": {},
   "outputs": [],
   "source": []
  }
 ],
 "metadata": {
  "kernelspec": {
   "display_name": "Python 3 (ipykernel)",
   "language": "python",
   "name": "python3"
  },
  "language_info": {
   "codemirror_mode": {
    "name": "ipython",
    "version": 3
   },
   "file_extension": ".py",
   "mimetype": "text/x-python",
   "name": "python",
   "nbconvert_exporter": "python",
   "pygments_lexer": "ipython3",
   "version": "3.8.2"
  }
 },
 "nbformat": 4,
 "nbformat_minor": 5
}
