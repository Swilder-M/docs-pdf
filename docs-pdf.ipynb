{
 "cells": [
  {
   "cell_type": "code",
   "execution_count": 2,
   "id": "6557a5a1",
   "metadata": {},
   "outputs": [
    {
     "name": "stdout",
     "output_type": "stream",
     "text": [
      "Collecting pdfkit\n",
      "  Using cached https://files.pythonhosted.org/packages/64/1b/26c080096dd93936dccfd32c682bed3d5630a84aae9d493ff68afb2ae0fb/pdfkit-1.0.0-py3-none-any.whl\n",
      "Installing collected packages: pdfkit\n",
      "Successfully installed pdfkit-1.0.0\n",
      "\u001B[33mWARNING: You are using pip version 19.2.3, however version 22.0.4 is available.\n",
      "You should consider upgrading via the 'pip install --upgrade pip' command.\u001B[0m\n"
     ]
    }
   ],
   "source": [
    "!pip3 install pdfkit --user"
   ]
  },
  {
   "cell_type": "code",
   "execution_count": null,
   "id": "c11447d1",
   "metadata": {},
   "outputs": [],
   "source": [
    "# for ubuntu or debian\n",
    "# sudo apt-get install wkhtmltopdf\n",
    "\n",
    "# for macOS\n",
    "# brew install homebrew/cask/wkhtmltopdf\n",
    "\n",
    "# docs\n",
    "# https://wkhtmltopdf.org/usage/wkhtmltopdf.txt"
   ]
  },
  {
   "cell_type": "code",
   "execution_count": 1,
   "id": "aaf781c0",
   "metadata": {},
   "outputs": [],
   "source": [
    "import requests\n",
    "from pdfkit import from_url"
   ]
  },
  {
   "cell_type": "code",
   "execution_count": 3,
   "id": "5d91b162",
   "metadata": {},
   "outputs": [],
   "source": [
    "def get_children_url(_d):\n",
    "    urls = []\n",
    "    for _path in _d:\n",
    "        if _path.get('path'):\n",
    "            urls.append(_path['path'])\n",
    "            continue\n",
    "\n",
    "        if _path.get('children'):\n",
    "            urls.extend(get_children_url(_path['children']))\n",
    "            continue\n",
    "    return urls\n",
    "\n",
    "\n",
    "def get_urls(product, version, lang):\n",
    "    if product == 'broker':\n",
    "        json_url = f'https://raw.githubusercontent.com/emqx/emqx-docs/release-{version}/directory.json'\n",
    "    elif product == 'enterprise':\n",
    "        json_url = f'https://raw.githubusercontent.com/emqx/emqx-docs/release-{version}/directory_ee.json'\n",
    "    else:\n",
    "        print('error product', product)\n",
    "        return None\n",
    "\n",
    "    json_data = requests.get(json_url).json()\n",
    "    json_data = json_data[lang]\n",
    "\n",
    "    all_path = get_children_url(json_data)\n",
    "    all_urls = []\n",
    "    for _path in all_path:\n",
    "        if lang == 'cn':\n",
    "            lang = 'zh'\n",
    "        if _path == './':\n",
    "            all_urls.append(f'https://docs.emqx.com/{lang}/enterprise/v{version}/')\n",
    "        else:\n",
    "            all_urls.append(f'https://docs.emqx.com/{lang}/enterprise/v{version}/{_path}.html')\n",
    "\n",
    "    return all_urls"
   ]
  },
  {
   "cell_type": "code",
   "execution_count": null,
   "id": "f1314026",
   "metadata": {},
   "outputs": [],
   "source": [
    "def gen_pdf(product, version, lang='cn'):\n",
    "    url = get_urls(product, version, lang)\n",
    "    version = version.replace('v', '')\n",
    "    if version == 'latest':\n",
    "        version_display = 'latest'\n",
    "    else:\n",
    "        version_display = 'V' + version\n",
    "\n",
    "    if product == 'broker':\n",
    "        product_display = 'EMQX'\n",
    "    elif product == 'enterprise':\n",
    "        product_display = 'EMQX Enterprise'\n",
    "    else:\n",
    "        print('error product', product)\n",
    "        return None\n",
    "\n",
    "    options = {\n",
    "        'print-media-type': None,\n",
    "        'user-style-sheet': 'assets/docs.css',\n",
    "        'dump-outline': 'assets/toc.xml',\n",
    "        'enable-local-file-access': None,\n",
    "        'javascript-delay': 60000,\n",
    "        'header-center': f'{product_display} {version_display} Docs',\n",
    "        'header-font-size': 10,\n",
    "        'header-spacing': 5,\n",
    "        'footer-center': '[page] / [topage]',\n",
    "        'footer-font-size': 8,\n",
    "        'page-offset': -1\n",
    "        #     'enable-internal-links': None,\n",
    "        #     'keep-relative-links': None\n",
    "        #     'dump-default-toc-xsl': None\n",
    "    }\n",
    "    toc = {\n",
    "        'xsl-style-sheet': 'assets/toc.xsl'\n",
    "    }\n",
    "    cover = 'https://docs.emqx.com/404.html'\n",
    "\n",
    "    from_url(url, f'{product}-{version}-{lang}.pdf',\n",
    "             options=options, verbose=True,\n",
    "             toc=toc, cover=cover, cover_first=True)"
   ]
  },
  {
   "cell_type": "code",
   "execution_count": null,
   "outputs": [],
   "source": [
    "gen_pdf('enterprise', '4.4', 'cn')"
   ],
   "metadata": {
    "collapsed": false
   }
  },
  {
   "cell_type": "code",
   "execution_count": 72,
   "id": "a40bb70f",
   "metadata": {},
   "outputs": [
    {
     "name": "stdout",
     "output_type": "stream",
     "text": [
      "/usr/local/bin/wkhtmltopdf --print-media-type --user-style-sheet my.css --dump-outline toc.xml --enable-local-file-access --javascript-delay 500 --header-center EMQX Enterprise V4.4 Docs --header-font-size 10 --header-spacing 5 --footer-center [page] / [topage] --footer-font-size 8 --page-offset -1 toc --xsl-style-sheet toc.xsl https://docs.emqx.com/zh/enterprise/v4.4/ https://docs.emqx.com/zh/enterprise/v4.4/getting-started/install-ee.html https://docs.emqx.com/zh/enterprise/v4.4/getting-started/start.html https://docs.emqx.com/zh/enterprise/v4.4/faq/error.html https://docs.emqx.com/zh/enterprise/v4.4/bridge/bridge.html https://docs.emqx.com/zh/enterprise/v4.4/rule/rule-engine.html https://docs.emqx.com/zh/enterprise/v4.4/getting-started/log.html -\n"
     ]
    }
   ],
   "source": [
    "# test command\n",
    "# r = pdfkit.PDFKit(url, 'url', options=options, verbose=True, toc=toc)\n",
    "# print(' '.join(r.command()))"
   ]
  }
 ],
 "metadata": {
  "kernelspec": {
   "display_name": "Python 3 (ipykernel)",
   "language": "python",
   "name": "python3"
  },
  "language_info": {
   "codemirror_mode": {
    "name": "ipython",
    "version": 3
   },
   "file_extension": ".py",
   "mimetype": "text/x-python",
   "name": "python",
   "nbconvert_exporter": "python",
   "pygments_lexer": "ipython3",
   "version": "3.8.2"
  }
 },
 "nbformat": 4,
 "nbformat_minor": 5
}
